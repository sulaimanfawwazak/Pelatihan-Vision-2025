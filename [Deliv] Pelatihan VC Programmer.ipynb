{
 "cells": [
  {
   "cell_type": "markdown",
   "id": "aece9e09",
   "metadata": {},
   "source": [
    "# **Pelatihan Vision and Control Programmer GAMAFORECE 2024: Computer Vision**"
   ]
  },
  {
   "cell_type": "markdown",
   "id": "34885d40",
   "metadata": {},
   "source": [
    "## **Setup**\n",
    "\n",
    "**Note: Do all of this inside your Terminal**\n",
    "1. **Prerequisites**\n",
    "    ```\n",
    "    sudo apt install python-is-python3\n",
    "    sudo apt install python3-pip\n",
    "    ```\n",
    "\n",
    "2. **Miniconda**\n",
    "    * Download Miniconda Installer \n",
    "    ```\n",
    "    curl https://repo.anaconda.com/miniconda/Miniconda3-latest-Linux-x86_64.sh -o Miniconda3-latest-Linux-x86_64.sh\n",
    "    ```\n",
    "\n",
    "    * Run the Installer\n",
    "    ```\n",
    "    bash Miniconda3-latest-Linux-x86_64.sh\n",
    "    ```\n",
    "\n",
    "    * Initialize Conda\n",
    "    ```\n",
    "    source ~/.bashrc\n",
    "    ```\n",
    "    Or\n",
    "    ```python\n",
    "    conda activate base # 'base' ini environment default yang otomatis kebuat sama Miniconda\n",
    "    ```\n",
    "\n",
    "    * Check The Installation Result\n",
    "    ```\n",
    "    conda --version\n",
    "    python --version\n",
    "    ```\n",
    "    * Download the `environment.yml` from [this link](https://drive.google.com/file/d/12ne0giPuJ1lmnCKHeKHCaTU_ctsfSvFO/view?usp=sharing)\n",
    "\n",
    "    * Create the Environment\n",
    "    ```\n",
    "    conda env create --name viscon -f environment.yml\n",
    "    ```\n",
    "\n",
    "    * Activate the Environment\n",
    "    ```\n",
    "    conda activate viscon\n",
    "    ```\n",
    "\n",
    "    * Install Jupyter and Conda Integration\n",
    "    ```\n",
    "    conda install -y jupyter\n",
    "    conda install -c conda-forge nb_conda\n",
    "    ```\n",
    "    \n",
    "    * Install OpenCV\n",
    "    ```\n",
    "    conda install -c conda-forge opencv\n",
    "    ```\n",
    "\n",
    "    * Set Up the Jupyter Kernel\n",
    "    ```\n",
    "    python -m ipykernel install --user --name viscon --display-name \"Python (Vision and Control)\"\n",
    "    ```\n",
    "    \n",
    "3. **Run Jupyter Notebook**\n",
    "  ```\n",
    "  mkdir pelatihan-vision\n",
    "  cd pelatihan-vision\n",
    "  jupter notebook\n",
    "  ```"
   ]
  },
  {
   "cell_type": "markdown",
   "id": "8c7c19a3",
   "metadata": {},
   "source": [
    "## **Assets**\n",
    "* Download the assets file from [this link](https://drive.google.com/file/d/1-rDLqP_qw2acK7JJU-WnD5hJGunVUujb/view?usp=sharing)\n",
    "\n",
    "* Extract it into the `pelatihan-vision` folder\n",
    "\n",
    "* Your working space would be something like this:\n",
    "```\n",
    "  pelatihan-vision\n",
    "  ├── assets\n",
    "  │   ├── beautiful-view.jpg\n",
    "  │   ├── bitwise-truth-table.jpg\n",
    "  │   ├── boat\n",
    "  │   │   ├── boat1.jpg\n",
    "  │   │   ├── boat2.jpg\n",
    "  │   │   ├── boat3.jpg\n",
    "  │   │   ├── boat4.jpg\n",
    "  │   │   ├── boat5.jpg\n",
    "  │   │   └── boat6.jpg\n",
    "  │   ├── checkerboard_18x18.png\n",
    "  │   ├── checkerboard_color.png\n",
    "  │   ├── display_image.py\n",
    "  │   ├── dteti-logo-setengah.png\n",
    "  │   ├── form.jpg\n",
    "  │   ├── gate.jpg\n",
    "  │   ├── hsv-color-wheel.jpeg\n",
    "  │   ├── piano-sheet-music.png\n",
    "  │   ├── process-bitwise-project.png\n",
    "  │   ├── rainbow-color-palette.png\n",
    "  │   ├── scanned-form.jpg\n",
    "  │   └── types-of-transformations.jpg\n",
    "  └── Pelatihan V&C Programmer 2025.ipynb\n",
    "```"
   ]
  },
  {
   "cell_type": "markdown",
   "id": "05ee9db2",
   "metadata": {},
   "source": [
    "## **Head's Up!**\n",
    "* In this module, we'll provide you with the explanation about the topics, and also the code.\n",
    "* There are also hands-on projects, but you need to fill some of the lines."
   ]
  },
  {
   "cell_type": "markdown",
   "id": "44301790",
   "metadata": {},
   "source": [
    "## **============================== START ==============================**"
   ]
  },
  {
   "cell_type": "markdown",
   "id": "2a4def89",
   "metadata": {},
   "source": [
    "## **Dependencies**"
   ]
  },
  {
   "cell_type": "code",
   "execution_count": 3,
   "id": "01d237c7",
   "metadata": {},
   "outputs": [],
   "source": [
    "import cv2\n",
    "import matplotlib.pyplot as plt\n",
    "import numpy as np\n",
    "import glob\n",
    "from IPython.display import Image, display\n",
    "from charminal import *"
   ]
  },
  {
   "cell_type": "code",
   "execution_count": 4,
   "id": "9132007a",
   "metadata": {},
   "outputs": [
    {
     "name": "stdout",
     "output_type": "stream",
     "text": [
      "Requirement already satisfied: matplotlib in /home/pwnwas/miniconda3/envs/tensorflow/lib/python3.10/site-packages (3.8.4)\n",
      "Collecting matplotlib\n",
      "  Downloading matplotlib-3.9.2-cp310-cp310-manylinux_2_17_x86_64.manylinux2014_x86_64.whl.metadata (11 kB)\n",
      "Requirement already satisfied: contourpy>=1.0.1 in /home/pwnwas/miniconda3/envs/tensorflow/lib/python3.10/site-packages (from matplotlib) (1.2.0)\n",
      "Requirement already satisfied: cycler>=0.10 in /home/pwnwas/miniconda3/envs/tensorflow/lib/python3.10/site-packages (from matplotlib) (0.12.1)\n",
      "Requirement already satisfied: fonttools>=4.22.0 in /home/pwnwas/miniconda3/envs/tensorflow/lib/python3.10/site-packages (from matplotlib) (4.51.0)\n",
      "Requirement already satisfied: kiwisolver>=1.3.1 in /home/pwnwas/miniconda3/envs/tensorflow/lib/python3.10/site-packages (from matplotlib) (1.4.4)\n",
      "Requirement already satisfied: numpy>=1.23 in /home/pwnwas/.local/lib/python3.10/site-packages (from matplotlib) (1.26.4)\n",
      "Requirement already satisfied: packaging>=20.0 in /home/pwnwas/.local/lib/python3.10/site-packages (from matplotlib) (24.1)\n",
      "Requirement already satisfied: pillow>=8 in /home/pwnwas/miniconda3/envs/tensorflow/lib/python3.10/site-packages (from matplotlib) (10.3.0)\n",
      "Requirement already satisfied: pyparsing>=2.3.1 in /home/pwnwas/miniconda3/envs/tensorflow/lib/python3.10/site-packages (from matplotlib) (3.0.9)\n",
      "Requirement already satisfied: python-dateutil>=2.7 in /home/pwnwas/.local/lib/python3.10/site-packages (from matplotlib) (2.9.0.post0)\n",
      "Requirement already satisfied: six>=1.5 in /home/pwnwas/miniconda3/envs/tensorflow/lib/python3.10/site-packages (from python-dateutil>=2.7->matplotlib) (1.16.0)\n",
      "Downloading matplotlib-3.9.2-cp310-cp310-manylinux_2_17_x86_64.manylinux2014_x86_64.whl (8.3 MB)\n",
      "\u001b[2K   \u001b[38;2;114;156;31m━━━━━━━━━━━━━━━━━━━━━━━━━━━━━━━━━━━━━━━━\u001b[0m \u001b[32m8.3/8.3 MB\u001b[0m \u001b[31m2.0 MB/s\u001b[0m eta \u001b[36m0:00:00\u001b[0mm eta \u001b[36m0:00:01\u001b[0m[36m0:00:01\u001b[0m\n",
      "\u001b[?25hInstalling collected packages: matplotlib\n",
      "  Attempting uninstall: matplotlib\n",
      "    Found existing installation: matplotlib 3.8.4\n",
      "    Uninstalling matplotlib-3.8.4:\n",
      "      Successfully uninstalled matplotlib-3.8.4\n",
      "Successfully installed matplotlib-3.9.2\n"
     ]
    }
   ],
   "source": [
    "!python -m pip install -U matplotlib"
   ]
  },
  {
   "cell_type": "markdown",
   "id": "5a0e7093",
   "metadata": {},
   "source": [
    "## **Basic Image Handling**\n",
    "\n",
    "* **Load Images**\n",
    "  ```\n",
    "  cv2.IMREAD_GRAYSCALE or 0   : Loads image in grayscale mode\n",
    "  cv2.IMREAD_COLOR or 1       : Loads a color image. Any transparency of image will be neglected. It is the default flag.\n",
    "  cv2.IMREAD_UNCHANGED or -1  : Loads image as such including alpha channel.\n",
    "  ```"
   ]
  },
  {
   "cell_type": "markdown",
   "id": "2bb9228e",
   "metadata": {},
   "source": [
    "### **Load the Images**"
   ]
  },
  {
   "cell_type": "code",
   "execution_count": 5,
   "id": "336648e5",
   "metadata": {},
   "outputs": [
    {
     "name": "stdout",
     "output_type": "stream",
     "text": [
      "🚀 Loading the images\n"
     ]
    }
   ],
   "source": [
    "# Load the image with different flags\n",
    "print(f'{EMOJI_BEGIN} Loading the images')\n",
    "img_color = cv2.imread('./assets/beautiful-view.jpg', cv2.IMREAD_COLOR)  # Load as color\n",
    "img_gray = cv2.imread('./assets/beautiful-view.jpg', cv2.IMREAD_GRAYSCALE)  # Load as grayscale\n",
    "img_unchanged = cv2.imread('./assets/beautiful-view.jpg', cv2.IMREAD_UNCHANGED)  # Load as-is, including alpha channel\n",
    "\n",
    "img_checkerboard = cv2.imread('./assets/checkerboard_18x18.png', cv2.IMREAD_GRAYSCALE)"
   ]
  },
  {
   "cell_type": "markdown",
   "id": "89f2d047",
   "metadata": {},
   "source": [
    "### **See How Images are Represented in OpenCV**"
   ]
  },
  {
   "cell_type": "code",
   "execution_count": 6,
   "id": "b2c99a84",
   "metadata": {},
   "outputs": [
    {
     "name": "stdout",
     "output_type": "stream",
     "text": [
      "[[  0   0   0   0   0   0 255 255 255 255 255 255   0   0   0   0   0   0]\n",
      " [  0   0   0   0   0   0 255 255 255 255 255 255   0   0   0   0   0   0]\n",
      " [  0   0   0   0   0   0 255 255 255 255 255 255   0   0   0   0   0   0]\n",
      " [  0   0   0   0   0   0 255 255 255 255 255 255   0   0   0   0   0   0]\n",
      " [  0   0   0   0   0   0 255 255 255 255 255 255   0   0   0   0   0   0]\n",
      " [  0   0   0   0   0   0 255 255 255 255 255 255   0   0   0   0   0   0]\n",
      " [255 255 255 255 255 255   0   0   0   0   0   0 255 255 255 255 255 255]\n",
      " [255 255 255 255 255 255   0   0   0   0   0   0 255 255 255 255 255 255]\n",
      " [255 255 255 255 255 255   0   0   0   0   0   0 255 255 255 255 255 255]\n",
      " [255 255 255 255 255 255   0   0   0   0   0   0 255 255 255 255 255 255]\n",
      " [255 255 255 255 255 255   0   0   0   0   0   0 255 255 255 255 255 255]\n",
      " [255 255 255 255 255 255   0   0   0   0   0   0 255 255 255 255 255 255]\n",
      " [  0   0   0   0   0   0 255 255 255 255 255 255   0   0   0   0   0   0]\n",
      " [  0   0   0   0   0   0 255 255 255 255 255 255   0   0   0   0   0   0]\n",
      " [  0   0   0   0   0   0 255 255 255 255 255 255   0   0   0   0   0   0]\n",
      " [  0   0   0   0   0   0 255 255 255 255 255 255   0   0   0   0   0   0]\n",
      " [  0   0   0   0   0   0 255 255 255 255 255 255   0   0   0   0   0   0]\n",
      " [  0   0   0   0   0   0 255 255 255 255 255 255   0   0   0   0   0   0]]\n"
     ]
    },
    {
     "data": {
      "image/png": "[encoded data removed]",
      "text/plain": [
       "<Figure size 640x480 with 1 Axes>"
      ]
     },
     "metadata": {},
     "output_type": "display_data"
    }
   ],
   "source": [
    "print(img_checkerboard)\n",
    "plt.imshow(img_checkerboard, cmap='gray')\n",
    "plt.show()"
   ]
  },
  {
   "cell_type": "markdown",
   "id": "3f33fa60",
   "metadata": {},
   "source": [
    "### **Change the Color Space from BGR to RGB**"
   ]
  },
  {
   "cell_type": "code",
   "execution_count": 7,
   "id": "50e54079",
   "metadata": {},
   "outputs": [],
   "source": [
    "img_color_rgb_1 = cv2.cvtColor(img_color, cv2.COLOR_BGR2RGB) # Use cv2.cvtColor()\n",
    "img_color_rgb_2 = img_color[:, :, ::-1]                      # Use array reversal"
   ]
  },
  {
   "cell_type": "markdown",
   "id": "266f5d4a",
   "metadata": {},
   "source": [
    "### **Display The Images**"
   ]
  },
  {
   "cell_type": "code",
   "execution_count": 14,
   "id": "c36b1735",
   "metadata": {},
   "outputs": [
    {
     "data": {
      "image/png": "[encoded data removed]",
      "text/plain": [
       "<Figure size 640x480 with 5 Axes>"
      ]
     },
     "metadata": {},
     "output_type": "display_data"
    }
   ],
   "source": [
    "# Display loaded images\n",
    "plt.subplot(1, 5, 1)\n",
    "plt.title('Original')\n",
    "plt.axis('off')\n",
    "plt.imshow(img_color)\n",
    "\n",
    "plt.subplot(1, 5, 2)\n",
    "plt.title('Grayscale')\n",
    "plt.axis('off')\n",
    "plt.imshow(img_gray, cmap='gray')\n",
    "\n",
    "plt.subplot(1, 5, 3)\n",
    "# plt.axis('off')\n",
    "plt.title('Alpha')\n",
    "plt.imshow(img_unchanged) \n",
    "\n",
    "plt.subplot(1, 5, 4)\n",
    "plt.axis('off')\n",
    "plt.title('RGBv1')\n",
    "plt.imshow(img_color_rgb_1)\n",
    "\n",
    "plt.subplot(1, 5, 5)\n",
    "plt.axis('off')\n",
    "plt.title('RGBv2')\n",
    "plt.imshow(img_color_rgb_1) \n",
    "\n",
    "plt.show()"
   ]
  },
  {
   "cell_type": "markdown",
   "id": "1eabc00f",
   "metadata": {},
   "source": [
    "### **See Image Shapes**"
   ]
  },
  {
   "cell_type": "code",
   "execution_count": 9,
   "id": "2a437f4e",
   "metadata": {},
   "outputs": [
    {
     "name": "stdout",
     "output_type": "stream",
     "text": [
      "📌 Color image shape: (600, 840, 3)\n",
      "📌 Color gray shape: (600, 840)\n",
      "📌 Color unchanged shape: (600, 840, 3)\n"
     ]
    }
   ],
   "source": [
    "# Check image attributes\n",
    "print(f'{EMOJI_PIN} Color image shape: {img_color.shape}')\n",
    "print(f'{EMOJI_PIN} Color gray shape: {img_gray.shape}')\n",
    "print(f'{EMOJI_PIN} Color unchanged shape: {img_unchanged.shape}')"
   ]
  },
  {
   "cell_type": "markdown",
   "id": "1a31c20c",
   "metadata": {},
   "source": [
    "### **Save Images**"
   ]
  },
  {
   "cell_type": "code",
   "execution_count": 10,
   "id": "42626be2",
   "metadata": {},
   "outputs": [
    {
     "name": "stdout",
     "output_type": "stream",
     "text": [
      "💾 Images saved as 'saved_image.png' and 'saved_plot.png'\n"
     ]
    }
   ],
   "source": [
    "# Save the original image (or any processed image)\n",
    "cv2.imwrite(\"image_aku_cv2.png\", img_color)  # Saves in BGR format\n",
    "\n",
    "# Saving a matplotlib plot as an image\n",
    "plt.imsave('image_aku_plt.png', img_color)\n",
    "print(f\"{EMOJI_SAVING} Images saved as 'saved_image.png' and 'saved_plot.png'\")"
   ]
  },
  {
   "cell_type": "markdown",
   "id": "efc5f0e2",
   "metadata": {},
   "source": [
    "## **Basic Image Operations**\n",
    "### **Crop, Resize and Flip Images**"
   ]
  },
  {
   "cell_type": "code",
   "execution_count": 11,
   "id": "d1e05713",
   "metadata": {},
   "outputs": [
    {
     "name": "stdout",
     "output_type": "stream",
     "text": [
      "📌 cropped_region shape: (200, 300, 3)\n",
      "📌 resized_cropped_region_2x shape: (100, 150, 3)\n"
     ]
    }
   ],
   "source": [
    "# Cropping\n",
    "cropped_region = img_color[200:400, 300:600]\n",
    "print(f'{EMOJI_PIN} cropped_region shape: {cropped_region.shape}')\n",
    "\n",
    "# Resizing\n",
    "# Syntax: dst = resize( src, dsize[, dst[, fx[, fy[, interpolation]]]] )\n",
    "resized_cropped_region_2x = cv2.resize(cropped_region, None, fx=0.5, fy=0.5)\n",
    "print(f'{EMOJI_PIN} resized_cropped_region_2x shape: {resized_cropped_region_2x.shape}')\n",
    "\n",
    "# Flipping\n",
    "flipped_horz = cv2.flip(img_color, 1)  # Flip Horizontally\n",
    "flipped_vert = cv2.flip(img_color, 0)  # Flip Vertically\n",
    "flipped_both = cv2.flip(img_color, -1) # Flip Both"
   ]
  },
  {
   "cell_type": "code",
   "execution_count": 12,
   "id": "d171a803",
   "metadata": {},
   "outputs": [
    {
     "name": "stdout",
     "output_type": "stream",
     "text": [
      "Object `?` not found.\n",
      "Object `?` not found.\n",
      "Object `?` not found.\n",
      "Object `?` not found.\n",
      "Object `?` not found.\n",
      "Object `?` not found.\n"
     ]
    },
    {
     "data": {
      "image/png": "[encoded data removed]",
      "text/plain": [
       "<Figure size 640x480 with 4 Axes>"
      ]
     },
     "metadata": {},
     "output_type": "display_data"
    }
   ],
   "source": [
    "plt.subplot(2, 3, 1)\n",
    "plt.axis('off')\n",
    "plt.title('Original')\n",
    "plt.imshow(img_color)\n",
    "\n",
    "plt.subplot(2, 3, 2)\n",
    "plt.axis('off')\n",
    "plt.title('Cropped')\n",
    "plt.imshow(cropped_region) \n",
    "\n",
    "plt.subplot(2, 3, 3)\n",
    "plt.axis('off')\n",
    "plt.title('Cropped & Resized')\n",
    "plt.imshow(resized_cropped_region_2x)\n",
    "\n",
    "plt.subplot(2, 3, 4)\n",
    "# plt.axis('off')\n",
    "plt.title('Flip Horizontally')\n",
    "plt.imshow(flipped_horz)\n",
    "\n",
    "########## COBA ISI INI YAA ##########\n",
    "########## Coba tampilin `flipped_vert` pakai plt kayak line-line di atas\n",
    "???\n",
    "???\n",
    "plt.title('Flip Vertically')\n",
    "???\n",
    "\n",
    "########## COBA ISI INI YAA ##########\n",
    "########## Coba tampilin `flipped_both` pakai plt kayak line-line di atas\n",
    "???\n",
    "???\n",
    "plt.title('Flip Both')\n",
    "???\n",
    "\n",
    "plt.show()\n"
   ]
  },
  {
   "cell_type": "markdown",
   "id": "89975d97",
   "metadata": {},
   "source": [
    "## **Accessing Camera**\n",
    "Since it is hard to open a camera inside Jupyter Notebook file, then let's make a new Python file (`touch open-cam.py`) and then paste this program\n",
    "\n",
    "\n",
    "```python\n",
    "import cv2\n",
    "\n",
    "# Open the default camera\n",
    "cam = cv2.VideoCapture(0)\n",
    "\n",
    "# Get the default frame width and height\n",
    "frame_width = int(cam.get(cv2.CAP_PROP_FRAME_WIDTH))\n",
    "frame_height = int(cam.get(cv2.CAP_PROP_FRAME_HEIGHT))\n",
    "\n",
    "while True:\n",
    "    ret, frame = cam.read()\n",
    "\n",
    "    # Display the captured frame\n",
    "    cv2.imshow('Camera', frame)\n",
    "\n",
    "    # Press 'q' to exit the loop\n",
    "    if cv2.waitKey(1) == ord('q') or cv2.waitKey(1) == ord(' '):\n",
    "        break\n",
    "\n",
    "# Release the capture and writer objects\n",
    "cam.release()\n",
    "cv2.destroyAllWindows()\n",
    "```"
   ]
  },
  {
   "cell_type": "markdown",
   "id": "dc6b7471",
   "metadata": {},
   "source": [
    "## **Thresholding**"
   ]
  },
  {
   "cell_type": "markdown",
   "id": "d78e0429",
   "metadata": {},
   "source": [
    "### **Global Thresholding**\n",
    "Global thresholding applies a fixed threshold across the entire image. If a pixel’s intensity is above the threshold, it is set to the maximum value (white, in a binary threshold), otherwise, it is set to zero (black)."
   ]
  },
  {
   "cell_type": "code",
   "execution_count": 13,
   "id": "1d436bdb",
   "metadata": {},
   "outputs": [
    {
     "ename": "SyntaxError",
     "evalue": "invalid syntax (2871873470.py, line 10)",
     "output_type": "error",
     "traceback": [
      "\u001b[0;36m  Cell \u001b[0;32mIn[13], line 10\u001b[0;36m\u001b[0m\n\u001b[0;31m    _, img_thresh_gbl_2 = ???\u001b[0m\n\u001b[0m                          ^\u001b[0m\n\u001b[0;31mSyntaxError\u001b[0m\u001b[0;31m:\u001b[0m invalid syntax\n"
     ]
    }
   ],
   "source": [
    "# Load the image in grayscale\n",
    "img_music = cv2.imread(\"./assets/piano-sheet-music.png\", cv2.IMREAD_GRAYSCALE)\n",
    "\n",
    "# Perform global thresholding\n",
    "_, img_thresh_gbl_1 = cv2.threshold(img_music, 50, 255, cv2.THRESH_BINARY)\n",
    "\n",
    "# Perform global thresholding\n",
    "########## COBA ISI INI YAA ##########\n",
    "########## Coba apply global thresholding buat `img_music`, tapi threshold value-nya jadi 130, dan tetap pakai `cv2.THRESH_BINARY`\n",
    "_, img_thresh_gbl_2 = ???"
   ]
  },
  {
   "cell_type": "markdown",
   "id": "e178a7f3",
   "metadata": {},
   "source": [
    "### **Adaptive Thresholding**\n",
    "Adaptive thresholding calculates the threshold for small regions of the image. This method is useful for images with varying lighting conditions, as it adjusts thresholds based on local neighborhoods.\n",
    "    * `cv2.ADAPTIVE_THRESH_MEAN_C`: Computes the mean of the neighborhood area.\n",
    "    * `cv2.ADAPTIVE_THRESH_GAUSSIAN_C`: Computes a weighted sum of neighborhood values where weights are a Gaussian window."
   ]
  },
  {
   "cell_type": "code",
   "execution_count": null,
   "id": "e6797e2c",
   "metadata": {},
   "outputs": [],
   "source": [
    "# Perform adaptive thresholding\n",
    "img_thresh_adp = cv2.adaptiveThreshold(img_music, 255, cv2.ADAPTIVE_THRESH_MEAN_C, cv2.THRESH_BINARY, 11, 7)\n",
    "\n",
    "# Show the images\n",
    "plt.figure(figsize=[18,15])\n",
    "plt.subplot(221); plt.imshow(img_music,        cmap=\"gray\");  plt.title(\"Original\");\n",
    "plt.subplot(222); plt.imshow(img_thresh_gbl_1, cmap=\"gray\");  plt.title(\"Thresholded (global: 50)\");\n",
    "plt.subplot(223); plt.imshow(img_thresh_gbl_2, cmap=\"gray\");  plt.title(\"Thresholded (global: 130)\");\n",
    "plt.subplot(224); plt.imshow(img_thresh_adp,   cmap=\"gray\");  plt.title(\"Thresholded (adaptive)\");\n"
   ]
  },
  {
   "cell_type": "markdown",
   "id": "d28fda13",
   "metadata": {},
   "source": [
    "## **Bitwise Operations**\n",
    "![Truth Table](./assets/bitwise-truth-table.jpg)\n"
   ]
  },
  {
   "cell_type": "markdown",
   "id": "a61749d2",
   "metadata": {},
   "source": [
    "### **Project: Mask The DTETI's Logo**\n",
    "![bitwise result](./assets/process-bitwise-project.png)"
   ]
  },
  {
   "cell_type": "markdown",
   "id": "60ae8d35",
   "metadata": {},
   "source": [
    "### **Load the Image** (`'./assets/dteti-logo-setengah.png'`)"
   ]
  },
  {
   "cell_type": "code",
   "execution_count": null,
   "id": "212fc857",
   "metadata": {},
   "outputs": [],
   "source": [
    "img_dteti_bgr = cv2.imread('./assets/dteti-logo-setengah.png')\n",
    "img_checkerboard_bgr = cv2.imread('./assets/checkerboard_color.png')"
   ]
  },
  {
   "cell_type": "markdown",
   "id": "aed52865",
   "metadata": {},
   "source": [
    "### **Convert the Images from BGR to RGB**"
   ]
  },
  {
   "cell_type": "code",
   "execution_count": null,
   "id": "427a01d1",
   "metadata": {},
   "outputs": [],
   "source": [
    "# Convert from BGR to RGB\n",
    "########## COBA INI YAA ##########\n",
    "########## Coba convert color space `img_dteti_bgr` dari BGR ke RGB\n",
    "img_dteti_rgb = ???\n",
    "\n",
    "########## COBA INI YAA ##########\n",
    "########## Coba convert color space `img_checkerboard_bgr` dari BGR ke RGB\n",
    "img_checkerboard_rgb = ???"
   ]
  },
  {
   "cell_type": "markdown",
   "id": "e1d403f6",
   "metadata": {},
   "source": [
    "### **Display the Images**"
   ]
  },
  {
   "cell_type": "code",
   "execution_count": null,
   "id": "6abb647c",
   "metadata": {},
   "outputs": [],
   "source": [
    "plt.subplot(1, 2, 1)\n",
    "plt.title('Logo')\n",
    "plt.axis('off')\n",
    "plt.imshow(img_dteti_rgb)\n",
    "\n",
    "plt.subplot(1, 2, 2)\n",
    "plt.title('Background')\n",
    "plt.axis('off')\n",
    "plt.imshow(img_checkerboard_rgb)\n",
    "\n",
    "plt.show()"
   ]
  },
  {
   "cell_type": "markdown",
   "id": "0b51ba78",
   "metadata": {},
   "source": [
    "### **Check the Shape of the Images**"
   ]
  },
  {
   "cell_type": "code",
   "execution_count": null,
   "id": "cdf18165",
   "metadata": {},
   "outputs": [],
   "source": [
    "print(f'{EMOJI_PIN} img_dteti_rgb shape: {img_dteti_rgb.shape}')\n",
    "\n",
    "########## COBA ISI INI YAA ##########\n",
    "########## Coba tampilin shape dari `img_checkerboard_rgb`\n",
    "print(f'{EMOJI_PIN} img_checkerboard_rgb shape: {???}')\n",
    "\n",
    "if img_dteti_rgb.shape != img_checkerboard_rgb.shape:\n",
    "  print(f'{COLOR_RED} UKURAN GA SAMA!{RESET}')\n",
    "else:\n",
    "  print(f'{COLOR_GREEN} UKURAN UDAH SAMA!{RESET}')\n",
    "\n",
    "# Ukurannya ga sama, jadi samain awokaowk\n",
    "# Misal kita jadiin yang DTETI jadi acuan buat shape-nya\n",
    "desired_height, desired_width, _ = img_dteti_rgb.shape\n",
    "\n",
    "########## COBA ISI INI YAA ##########\n",
    "########## Coba resize `img_checkerboard_rgb` biar ukuran height dan width-nya jadi kayak `desired_height` dan `desired_width`, dengan algoritma interpolation-nya cv2.INTER_AREA\n",
    "img_checkerboard_resized = ???\n",
    "\n",
    "########## COBA ISI INI YAA ##########\n",
    "########## Coba tampilin shape dari `img_dteti_rgb`\n",
    "print(f'{EMOJI_PIN} img_dteti_rgb shape: {???}')\n",
    "########## COBA ISI INI YAA ##########\n",
    "########## Coba tampilin shape dari `img_checkerboard_resized`\n",
    "???\n",
    "\n",
    "if img_dteti_rgb.shape != img_checkerboard_resized.shape:\n",
    "  print(f'{COLOR_RED} UKURAN GA SAMA!{RESET}')\n",
    "else:\n",
    "  print(f'{COLOR_GREEN} UKURAN UDAH SAMA!{RESET}')"
   ]
  },
  {
   "cell_type": "markdown",
   "id": "66c750ae",
   "metadata": {},
   "source": [
    "### **Create the Mask Using Thresholding**"
   ]
  },
  {
   "cell_type": "code",
   "execution_count": null,
   "id": "fdb82d2f",
   "metadata": {},
   "outputs": [],
   "source": [
    "# Buat mask-nya\n",
    "########## COBA ISI INI YAA ##########\n",
    "########## Coba convert color space-nya `img_dteti_rgb` DARI RGB ke Grayscale\n",
    "img_coca_cola_gray = ???\n",
    "\n",
    "# Apply thresholding\n",
    "_, img_coca_cola_mask_1 = cv2.threshold(img_coca_cola_gray, 190, 255, cv2.THRESH_BINARY)\n",
    "_, img_coca_cola_mask_2 = cv2.threshold(img_coca_cola_gray, 190, 255, cv2.THRESH_BINARY_INV)\n"
   ]
  },
  {
   "cell_type": "markdown",
   "id": "4e67fb0e",
   "metadata": {},
   "source": [
    "### **Display the Masks**"
   ]
  },
  {
   "cell_type": "code",
   "execution_count": null,
   "id": "d857abe9",
   "metadata": {},
   "outputs": [],
   "source": [
    "plt.subplot(1, 3, 1)\n",
    "plt.title('Grayscale')\n",
    "plt.axis('off')\n",
    "plt.imshow(img_coca_cola_gray, cmap='gray')\n",
    "\n",
    "plt.subplot(1, 3, 2)\n",
    "plt.title('Tresholded 1')\n",
    "plt.axis('off')\n",
    "plt.imshow(img_coca_cola_mask_1, cmap='gray')\n",
    "\n",
    "plt.subplot(1, 3, 3)\n",
    "plt.title('Tresholded 2')\n",
    "plt.axis('off')\n",
    "plt.imshow(img_coca_cola_mask_2, cmap='gray')"
   ]
  },
  {
   "cell_type": "markdown",
   "id": "6a0477b2",
   "metadata": {},
   "source": [
    "### **Aply the Masks Using Bitwise AND Operator**"
   ]
  },
  {
   "cell_type": "code",
   "execution_count": null,
   "id": "545b0fae",
   "metadata": {},
   "outputs": [],
   "source": [
    "img_background = cv2.bitwise_and(img_dteti_rgb, img_dteti_rgb, mask=img_coca_cola_mask_1)\n",
    "plt.axis('off')\n",
    "plt.imshow(img_background)"
   ]
  },
  {
   "cell_type": "code",
   "execution_count": null,
   "id": "7fe41db6",
   "metadata": {},
   "outputs": [],
   "source": [
    "# Apply mask on the background\n",
    "########## COBA ISI INI YAA ##########\n",
    "########## Coba pake operasi yang sama kayak di atas, tapi sekarang buat `img_checkerboard_resized`, dan mask-nya pakai `img_coca_cola_mask_2`\n",
    "img_foreground = ???\n",
    "plt.axis('off')\n",
    "plt.imshow(img_foreground)"
   ]
  },
  {
   "cell_type": "markdown",
   "id": "29b27ef1",
   "metadata": {},
   "source": [
    "### **Create the Result**"
   ]
  },
  {
   "cell_type": "code",
   "execution_count": null,
   "id": "20ba04b2",
   "metadata": {},
   "outputs": [],
   "source": [
    "# Make the result\n",
    "result = cv2.add(img_foreground, img_background)\n",
    "plt.title('Yey jadi awokawokawok')\n",
    "plt.axis('off')\n",
    "plt.imshow(result)"
   ]
  },
  {
   "cell_type": "markdown",
   "id": "551ca77f",
   "metadata": {},
   "source": [
    "## **Image Features, Keypoints, Descriptors and Transformations**\n",
    "![transformation-types](./assets/types-of-transformations.jpg)"
   ]
  },
  {
   "cell_type": "markdown",
   "id": "e32aecf2",
   "metadata": {},
   "source": [
    "### **Key Concepts**\n",
    "1. **Keypoints**: Distinctive locations in the image (e.g., corners, edges).\n",
    "2. **Descriptors**: Vectors that describe the appearance of keypoints, enabling matching between images.\n",
    "3. **Homography**: A transformation that aligns one image with another based on keypoint correspondences.\n"
   ]
  },
  {
   "cell_type": "markdown",
   "id": "c88d90a5",
   "metadata": {},
   "source": [
    "### **Project: Aligning a Form**"
   ]
  },
  {
   "cell_type": "markdown",
   "id": "3a598a7a",
   "metadata": {},
   "source": [
    "Here, we’ll use ORB (Oriented FAST and Rotated BRIEF), which is efficient and robust for real-time applications, to detect keypoints and descriptors in images."
   ]
  },
  {
   "cell_type": "markdown",
   "id": "02cd9453",
   "metadata": {},
   "source": [
    "**Steps**\n",
    "1. Detect ORB keypoints and compute descriptors.\n",
    "2. Match descriptors between two images.\n",
    "3. Sort matches to keep the best ones.\n",
    "4. Use RANSAC (Random Sample Consensus) to estimate a homography matrix.\n",
    "5. Warp one image to align with the other."
   ]
  },
  {
   "cell_type": "markdown",
   "id": "e6c0d8be",
   "metadata": {},
   "source": [
    "#### **Step 1: Read Template and Scanned Image**"
   ]
  },
  {
   "cell_type": "code",
   "execution_count": null,
   "id": "e108bf83",
   "metadata": {},
   "outputs": [],
   "source": [
    "# Read reference image\n",
    "refFilename = \"./assets/form.jpg\"\n",
    "print(f\"{EMOJI_BEGIN} Reading reference image: {refFilename}\")\n",
    "########## COBA ISI INI YAA ##########\n",
    "########## Coba load image-nya pakai cv2.imread()\n",
    "im1 = ???\n",
    "########## COBA ISI INI YAA ##########\n",
    "########## Coba convert color space-nya `im1` dari BGR ke RGB\n",
    "im1 = ???\n",
    "\n",
    "# Read image to be aligned\n",
    "imFilename = \"./assets/scanned-form.jpg\"\n",
    "print(f\"{EMOJI_BEGIN} Reading image to align: {imFilename}\")\n",
    "########## COBA ISI INI YAA ##########\n",
    "########## Coba load image-nya pakai cv2.imread()\n",
    "im2 = ???\n",
    "########## COBA ISI INI YAA ##########\n",
    "########## Coba convert color space-nya `im2` dari BGR ke RGB\n",
    "im2 = ???\n",
    "\n",
    "# Show the images\n",
    "plt.figure(figsize=[20, 10]); \n",
    "plt.subplot(121); plt.axis('off'); plt.imshow(im1); plt.title(\"Original Form\")\n",
    "plt.subplot(122); plt.axis('off'); plt.imshow(im2); plt.title(\"Scanned Form\")"
   ]
  },
  {
   "cell_type": "markdown",
   "id": "496d4f61",
   "metadata": {},
   "source": [
    "#### **Step 2: Find Keypoints**"
   ]
  },
  {
   "cell_type": "code",
   "execution_count": null,
   "id": "ff960189",
   "metadata": {},
   "outputs": [],
   "source": [
    "# Convert images to grayscale\n",
    "########## COBA ISI INI YAA ##########\n",
    "########## Coba ubah color space-nya `im1` dari RGB ke Grayscale\n",
    "im1_gray = ???\n",
    "########## COBA ISI INI YAA ##########\n",
    "########## Coba ubah color space-nya `im2` dari RGB ke Grayscale\n",
    "im2_gray = ???\n",
    "\n",
    "# Max number of features to be detected\n",
    "MAX_NUM_FEATURES = 1000\n",
    "\n",
    "# Instantiate the ORB object\n",
    "orb = cv2.ORB_create(MAX_NUM_FEATURES)\n",
    "\n",
    "# Detect ORB features and compute descriptors.\n",
    "keypoints1, descriptors1 = orb.detectAndCompute(im1_gray, None)\n",
    "keypoints2, descriptors2 = orb.detectAndCompute(im2_gray, None)\n",
    "\n",
    "# Draw the keypoints\n",
    "im1_display = cv2.drawKeypoints(im1, keypoints1, outImage=np.array([]), \n",
    "                                color=(255, 0, 0), flags=cv2.DRAW_MATCHES_FLAGS_DRAW_RICH_KEYPOINTS)\n",
    "\n",
    "im2_display = cv2.drawKeypoints(im2, keypoints2, outImage=np.array([]), \n",
    "                                color=(255, 0, 0), flags=cv2.DRAW_MATCHES_FLAGS_DRAW_RICH_KEYPOINTS)"
   ]
  },
  {
   "cell_type": "code",
   "execution_count": null,
   "id": "63d83602",
   "metadata": {},
   "outputs": [],
   "source": [
    "# Display the keypoints\n",
    "plt.figure(figsize=[20,10])\n",
    "plt.subplot(121); plt.axis('off'); plt.imshow(im1_display); plt.title(\"Original Form\");\n",
    "plt.subplot(122); plt.axis('off'); plt.imshow(im2_display); plt.title(\"Scanned Form\");"
   ]
  },
  {
   "cell_type": "markdown",
   "id": "d7dc92a2",
   "metadata": {},
   "source": [
    "#### **Step 3 : Match Keypoints On Both Images**"
   ]
  },
  {
   "cell_type": "code",
   "execution_count": null,
   "id": "ea4177e2",
   "metadata": {},
   "outputs": [],
   "source": [
    "# Match features.\n",
    "matcher = cv2.DescriptorMatcher_create(cv2.DESCRIPTOR_MATCHER_BRUTEFORCE_HAMMING)\n",
    "\n",
    "# Converting to list for sorting as tuples are immutable objects.\n",
    "matches = list(matcher.match(descriptors1, descriptors2, None))\n",
    "\n",
    "# Sort matches by score\n",
    "matches.sort(key=lambda x: x.distance, reverse=False)\n",
    "\n",
    "# Remove not so good matches\n",
    "numGoodMatches = int(len(matches) * 0.1)\n",
    "matches = matches[:numGoodMatches]"
   ]
  },
  {
   "cell_type": "code",
   "execution_count": null,
   "id": "22c1b49c",
   "metadata": {},
   "outputs": [],
   "source": [
    "# Draw top matches\n",
    "im_matches = cv2.drawMatches(im1, keypoints1, im2, keypoints2, matches, None)\n",
    "\n",
    "plt.figure(figsize=[40, 10])\n",
    "plt.imshow(im_matches);plt.axis(\"off\");plt.title(\"Original Form\")"
   ]
  },
  {
   "cell_type": "markdown",
   "id": "26e99aa4",
   "metadata": {},
   "source": [
    "#### **Step 4: Find Homography**"
   ]
  },
  {
   "cell_type": "code",
   "execution_count": null,
   "id": "000c63dc",
   "metadata": {},
   "outputs": [],
   "source": [
    "# Extract location of good matches\n",
    "points1 = np.zeros((len(matches), 2), dtype=np.float32)\n",
    "points2 = np.zeros((len(matches), 2), dtype=np.float32)\n",
    "\n",
    "for i, match in enumerate(matches):\n",
    "    points1[i, :] = keypoints1[match.queryIdx].pt\n",
    "    points2[i, :] = keypoints2[match.trainIdx].pt\n",
    "\n",
    "# Find homography\n",
    "h, mask = cv2.findHomography(points2, points1, cv2.RANSAC)"
   ]
  },
  {
   "cell_type": "markdown",
   "id": "29c31c17",
   "metadata": {},
   "source": [
    "#### **Step 5: Warp image**"
   ]
  },
  {
   "cell_type": "code",
   "execution_count": null,
   "id": "7b1d3f2a",
   "metadata": {},
   "outputs": [],
   "source": [
    "# Use homography to warp image\n",
    "height, width, channels = im1.shape\n",
    "im2_reg = cv2.warpPerspective(im2, h, (width, height))\n",
    "\n",
    "# Display results\n",
    "plt.figure(figsize=[20, 10])\n",
    "plt.subplot(121);plt.imshow(im1);    plt.axis(\"off\");plt.title(\"Original Form\")\n",
    "plt.subplot(122);plt.imshow(im2_reg);plt.axis(\"off\");plt.title(\"Scanned Form\")"
   ]
  },
  {
   "cell_type": "markdown",
   "id": "75df5a76",
   "metadata": {},
   "source": [
    "## **Image Stitching**"
   ]
  },
  {
   "cell_type": "markdown",
   "id": "c6c8b130",
   "metadata": {},
   "source": [
    "### **Project: Make a Panorama**"
   ]
  },
  {
   "cell_type": "code",
   "execution_count": null,
   "id": "67b4345a",
   "metadata": {},
   "outputs": [],
   "source": [
    "# Ambil semua path image nya\n",
    "image_paths = sorted(glob.glob(f'./assets/boat/*.jpg'))\n",
    "\n",
    "# List untuk menyimpan image\n",
    "images = []\n",
    "\n",
    "for path in image_paths:\n",
    "  ########## COBA ISI INI YAA ########## \n",
    "  ########## Coba load image dari `path` pakai cv2.imread()\n",
    "  img = ???\n",
    "  ########## COBA ISI INI YAA ##########\n",
    "  ########## Coba ubah color space-nya `img` dari BGR ke RGB\n",
    "  img = ???\n",
    "  # Masukin ke list `images`\n",
    "  images.append(img)\n",
    "\n",
    "num_images = len(images)\n",
    "print(f'{COLOR_GREEN}{EMOJI_BEGIN} Successfully loaded {num_images} images!{RESET}')"
   ]
  },
  {
   "cell_type": "code",
   "execution_count": null,
   "id": "bd8db49f",
   "metadata": {},
   "outputs": [],
   "source": [
    "# Display Images\n",
    "plt.figure(figsize=[30, 10])\n",
    "for i in range(0, num_images):\n",
    "    plt.subplot(2, 3, i + 1)\n",
    "    plt.axis(\"off\")\n",
    "    plt.title(f'{image_paths[i]}')\n",
    "    plt.imshow(images[i])"
   ]
  },
  {
   "cell_type": "code",
   "execution_count": null,
   "id": "aad3df59",
   "metadata": {},
   "outputs": [],
   "source": [
    "# Stitch Images\n",
    "stitcher = cv2.Stitcher_create()\n",
    "status, result = stitcher.stitch(images)\n",
    "\n",
    "if status == 0:\n",
    "    plt.figure(figsize=[30, 10])\n",
    "    plt.axis('off')\n",
    "    plt.imshow(result)\n",
    "else:\n",
    "    print(f'{COLOR_RED} ERROR: can\\'t stitch image!{RESET}')"
   ]
  },
  {
   "cell_type": "markdown",
   "id": "d4604783",
   "metadata": {},
   "source": [
    "## **Contours, Moments, and Centroids**"
   ]
  },
  {
   "cell_type": "markdown",
   "id": "a3698e25",
   "metadata": {},
   "source": [
    "Contours are curves that join all continuous points along a boundary with the same intensity. In image processing, contours are often used to detect and analyze shapes.\n",
    "\n",
    "### **Key Concepts**\n",
    "* **Contours**: Outlines of objects in an image.\n",
    "* **Moments**: Statistical properties of a shape, like area, orientation, and location.\n",
    "* **Centroids**: Center point of a shape, calculated from image moments."
   ]
  },
  {
   "cell_type": "markdown",
   "id": "ec3cedfe",
   "metadata": {},
   "source": [
    "### **Color Masking using Upper & Lower Bound**"
   ]
  },
  {
   "cell_type": "markdown",
   "id": "5cb4984b",
   "metadata": {},
   "source": [
    "![hsv-color-wheel](./assets/hsv-color-wheel.jpeg)"
   ]
  },
  {
   "cell_type": "code",
   "execution_count": null,
   "id": "a9989061",
   "metadata": {},
   "outputs": [],
   "source": [
    "img_circle_bgr = cv2.imread('./assets/circle-example.png')\n",
    "img_circle_rgb = cv2.cvtColor(img_circle_bgr, cv2.COLOR_BGR2RGB)\n",
    "\n",
    "plt.imshow(img_circle_rgb)"
   ]
  },
  {
   "cell_type": "markdown",
   "id": "c363e4a8",
   "metadata": {},
   "source": [
    "### **Color Masking using Upper & Lower Bound**"
   ]
  },
  {
   "cell_type": "code",
   "execution_count": null,
   "id": "d20c5ce0",
   "metadata": {},
   "outputs": [],
   "source": [
    "########## COBA ISI INI YAA ##########\n",
    "########## Coba ubah color space `img_circle_bgr` dari BGR ke HSV\n",
    "img_circle_hsv = cv2.cvtColor(img_circle_bgr, cv2.COLOR_BGR2HSV)\n",
    "\n",
    "# Define the range for the target color (e.g., blue)\n",
    "lower_blue = np.array([210/2, 0, 100])   # Lower bound for blue in HSV\n",
    "upper_blue = np.array([270/2, 255, 255])  # Upper bound for blue in HSV\n",
    "\n",
    "# lower_white = np.array([0, 0, 150])\n",
    "# upper_white = np.array([179, 0, 255])\n",
    "\n",
    "# Apply the mask\n",
    "mask_blue = cv2.inRange(img_circle_hsv, lower_blue, upper_blue)\n",
    "\n",
    "# Isolate the blue color\n",
    "# blue_isolated = cv2.bitwise_and(img_circle_rgb, img_circle_rgb, mask=mask_blue)\n",
    "blue_isolated = cv2.bitwise_and(img_circle_rgb, img_circle_rgb, mask=mask_blue)\n",
    "\n",
    "# Display the results\n",
    "plt.subplot(1, 2, 1)\n",
    "plt.title('Original')\n",
    "plt.axis('off')\n",
    "plt.imshow(img_circle_rgb)\n",
    "\n",
    "plt.subplot(1, 2, 2)\n",
    "plt.title('Masked')\n",
    "plt.axis('off')\n",
    "plt.imshow(blue_isolated)\n",
    "\n",
    "plt.show()"
   ]
  },
  {
   "cell_type": "code",
   "execution_count": null,
   "id": "34cda6ae",
   "metadata": {},
   "outputs": [],
   "source": [
    "# Change blue_isolated into grayscale\n",
    "blue_isolated_gray = cv2.cvtColor(blue_isolated, cv2.COLOR_RGB2GRAY)\n",
    "# Find countours\n",
    "contours, hierarchy = cv2.findContours(blue_isolated_gray, cv2.RETR_EXTERNAL, cv2.CHAIN_APPROX_SIMPLE)"
   ]
  },
  {
   "cell_type": "code",
   "execution_count": null,
   "id": "4583c90e",
   "metadata": {},
   "outputs": [],
   "source": [
    "# Draw contours on a copy of the original image\n",
    "contour_img = img_circle_rgb.copy()\n",
    "cv2.drawContours(contour_img, contours, -1, (0, 255, 0), 2)\n",
    "\n",
    "# Display the image with contours\n",
    "plt.figure(figsize=[10, 10])\n",
    "plt.imshow(contour_img)\n",
    "plt.axis(\"off\")\n",
    "plt.title(\"Contours\")\n",
    "plt.show()"
   ]
  },
  {
   "cell_type": "code",
   "execution_count": null,
   "id": "b00e77d5",
   "metadata": {},
   "outputs": [],
   "source": [
    "largest_contour = max(contours, key=cv2.contourArea)\n",
    "print(f'largest_contour: {largest_contour}')"
   ]
  },
  {
   "cell_type": "code",
   "execution_count": null,
   "id": "cdb183a3",
   "metadata": {},
   "outputs": [],
   "source": [
    "# Draw a bounding circle around the largest contour\n",
    "(x, y), radius = cv2.minEnclosingCircle(largest_contour)\n",
    "center = (int(x), int(y))\n",
    "radius = int(radius)\n",
    "\n",
    "# Draw the bounding circle on the original image\n",
    "cv2.circle(img_circle_rgb, center, radius, (0, 255, 0), 2)\n",
    "# Draw the crossheir on the original image\n",
    "cv2.circle(img_circle_rgb, center, 5, (255, 0, 0), -1)\n",
    "\n",
    "# Display the result\n",
    "plt.imshow(img_circle_rgb)\n",
    "plt.axis('off')\n",
    "plt.title(\"Bounding Circle around Largest Contour\")\n",
    "plt.show()"
   ]
  },
  {
   "cell_type": "code",
   "execution_count": null,
   "id": "4aa22654",
   "metadata": {},
   "outputs": [],
   "source": [
    "# Analyze contours\n",
    "for i, contour in enumerate(contours):\n",
    "    # Calculate moments\n",
    "    M = cv2.moments(contour)\n",
    "    print(f\"Contour #{i+1} Moments: {M}\")\n",
    "    \n",
    "    # Calculate centroid from moments\n",
    "    if M[\"m00\"] != 0:\n",
    "        cx = int(M[\"m10\"] / M[\"m00\"])\n",
    "        cy = int(M[\"m01\"] / M[\"m00\"])\n",
    "        print(f\"Centroid of Contour #{i+1}: ({cx}, {cy})\")\n",
    "    else:\n",
    "        cx, cy = 0, 0\n",
    "        print(f\"Contour #{i+1} has no area (likely noise)\")\n",
    "    \n",
    "    # Draw centroid on image\n",
    "    cv2.circle(contour_img, (cx, cy), 5, (255, 0, 0), -1)"
   ]
  },
  {
   "cell_type": "code",
   "execution_count": null,
   "id": "cf3a75d7",
   "metadata": {},
   "outputs": [],
   "source": [
    "# Analyze contours\n",
    "for i, contour in enumerate(contours):\n",
    "    # Calculate moments\n",
    "    M = cv2.moments(contour)\n",
    "    print(f\"Contour #{i+1} Moments: {M}\")\n",
    "    \n",
    "    # Calculate centroid from moments\n",
    "    if M[\"m00\"] != 0:\n",
    "        cx = int(M[\"m10\"] / M[\"m00\"])\n",
    "        cy = int(M[\"m01\"] / M[\"m00\"])\n",
    "        print(f\"Centroid of Contour #{i+1}: ({cx}, {cy})\")\n",
    "    else:\n",
    "        cx, cy = 0, 0\n",
    "        print(f\"Contour #{i+1} has no area (likely noise)\")\n",
    "    \n",
    "    # Draw centroid on image\n",
    "    cv2.circle(contour_img, (cx, cy), 5, (255, 0, 0), -1)"
   ]
  }
 ],
 "metadata": {
  "kernelspec": {
   "display_name": "Python 3.9 (tensorflow)",
   "language": "python",
   "name": "tensorflow"
  },
  "language_info": {
   "codemirror_mode": {
    "name": "ipython",
    "version": 3
   },
   "file_extension": ".py",
   "mimetype": "text/x-python",
   "name": "python",
   "nbconvert_exporter": "python",
   "pygments_lexer": "ipython3",
   "version": "3.10.12"
  }
 },
 "nbformat": 4,
 "nbformat_minor": 5
}
